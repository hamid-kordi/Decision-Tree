{
 "cells": [
  {
   "cell_type": "markdown",
   "metadata": {},
   "source": [
    "# Homework: Decision Tree\n",
    "## Phase 1: Implementing the ID3 Decision Tree Algorithm\n",
    "***"
   ]
  },
  {
   "cell_type": "markdown",
   "metadata": {},
   "source": [
    "## Import Libraries"
   ]
  },
  {
   "cell_type": "code",
   "execution_count": 53,
   "metadata": {
    "execution": {
     "iopub.execute_input": "2022-10-23T17:47:19.294281Z",
     "iopub.status.busy": "2022-10-23T17:47:19.293652Z",
     "iopub.status.idle": "2022-10-23T17:47:19.297578Z",
     "shell.execute_reply": "2022-10-23T17:47:19.298190Z"
    },
    "papermill": {
     "duration": 0.017717,
     "end_time": "2022-10-23T17:47:19.298506",
     "exception": false,
     "start_time": "2022-10-23T17:47:19.280789",
     "status": "completed"
    },
    "tags": []
   },
   "outputs": [],
   "source": [
    "# complete\n",
    "import numpy as np\n",
    "import pandas as pd\n",
    "import math"
   ]
  },
  {
   "cell_type": "markdown",
   "metadata": {},
   "source": [
    "## Load Dataset (CSV file)"
   ]
  },
  {
   "cell_type": "code",
   "execution_count": 54,
   "metadata": {
    "execution": {
     "iopub.execute_input": "2022-10-23T17:47:19.320031Z",
     "iopub.status.busy": "2022-10-23T17:47:19.319427Z",
     "iopub.status.idle": "2022-10-23T17:47:19.342312Z",
     "shell.execute_reply": "2022-10-23T17:47:19.341606Z"
    },
    "papermill": {
     "duration": 0.034366,
     "end_time": "2022-10-23T17:47:19.342460",
     "exception": false,
     "start_time": "2022-10-23T17:47:19.308094",
     "status": "completed"
    },
    "tags": []
   },
   "outputs": [],
   "source": [
    "# complete\n",
    "train_data_m = pd.read_csv('PlayTennis_train.csv', sep = ',', header = 0)\n",
    "test_data_m = pd.read_csv('PlayTennis_test.csv', sep = ',', header = 0)"
   ]
  },
  {
   "cell_type": "code",
   "execution_count": 25,
   "metadata": {
    "execution": {
     "iopub.execute_input": "2022-10-23T17:47:19.372232Z",
     "iopub.status.busy": "2022-10-23T17:47:19.371594Z",
     "iopub.status.idle": "2022-10-23T17:47:19.390276Z",
     "shell.execute_reply": "2022-10-23T17:47:19.389733Z"
    },
    "papermill": {
     "duration": 0.038811,
     "end_time": "2022-10-23T17:47:19.390420",
     "exception": false,
     "start_time": "2022-10-23T17:47:19.351609",
     "status": "completed"
    },
    "tags": []
   },
   "outputs": [
    {
     "data": {
      "text/html": [
       "<div>\n",
       "<style scoped>\n",
       "    .dataframe tbody tr th:only-of-type {\n",
       "        vertical-align: middle;\n",
       "    }\n",
       "\n",
       "    .dataframe tbody tr th {\n",
       "        vertical-align: top;\n",
       "    }\n",
       "\n",
       "    .dataframe thead th {\n",
       "        text-align: right;\n",
       "    }\n",
       "</style>\n",
       "<table border=\"1\" class=\"dataframe\">\n",
       "  <thead>\n",
       "    <tr style=\"text-align: right;\">\n",
       "      <th></th>\n",
       "      <th>Outlook</th>\n",
       "      <th>Temperature</th>\n",
       "      <th>Humidity</th>\n",
       "      <th>Wind</th>\n",
       "      <th>Play Tennis</th>\n",
       "    </tr>\n",
       "  </thead>\n",
       "  <tbody>\n",
       "    <tr>\n",
       "      <th>0</th>\n",
       "      <td>Sunny</td>\n",
       "      <td>Hot</td>\n",
       "      <td>High</td>\n",
       "      <td>Weak</td>\n",
       "      <td>No</td>\n",
       "    </tr>\n",
       "    <tr>\n",
       "      <th>1</th>\n",
       "      <td>Sunny</td>\n",
       "      <td>Hot</td>\n",
       "      <td>High</td>\n",
       "      <td>Strong</td>\n",
       "      <td>No</td>\n",
       "    </tr>\n",
       "    <tr>\n",
       "      <th>2</th>\n",
       "      <td>Overcast</td>\n",
       "      <td>Hot</td>\n",
       "      <td>High</td>\n",
       "      <td>Weak</td>\n",
       "      <td>Yes</td>\n",
       "    </tr>\n",
       "    <tr>\n",
       "      <th>3</th>\n",
       "      <td>Rain</td>\n",
       "      <td>Mild</td>\n",
       "      <td>High</td>\n",
       "      <td>Weak</td>\n",
       "      <td>Yes</td>\n",
       "    </tr>\n",
       "    <tr>\n",
       "      <th>4</th>\n",
       "      <td>Rain</td>\n",
       "      <td>Cool</td>\n",
       "      <td>Normal</td>\n",
       "      <td>Weak</td>\n",
       "      <td>Yes</td>\n",
       "    </tr>\n",
       "    <tr>\n",
       "      <th>5</th>\n",
       "      <td>Rain</td>\n",
       "      <td>Cool</td>\n",
       "      <td>Normal</td>\n",
       "      <td>Strong</td>\n",
       "      <td>No</td>\n",
       "    </tr>\n",
       "    <tr>\n",
       "      <th>6</th>\n",
       "      <td>Overcast</td>\n",
       "      <td>Cool</td>\n",
       "      <td>Normal</td>\n",
       "      <td>Strong</td>\n",
       "      <td>Yes</td>\n",
       "    </tr>\n",
       "    <tr>\n",
       "      <th>7</th>\n",
       "      <td>Sunny</td>\n",
       "      <td>Mild</td>\n",
       "      <td>High</td>\n",
       "      <td>Weak</td>\n",
       "      <td>No</td>\n",
       "    </tr>\n",
       "    <tr>\n",
       "      <th>8</th>\n",
       "      <td>Sunny</td>\n",
       "      <td>Cool</td>\n",
       "      <td>Normal</td>\n",
       "      <td>Weak</td>\n",
       "      <td>Yes</td>\n",
       "    </tr>\n",
       "    <tr>\n",
       "      <th>9</th>\n",
       "      <td>Rain</td>\n",
       "      <td>Mild</td>\n",
       "      <td>Normal</td>\n",
       "      <td>Weak</td>\n",
       "      <td>Yes</td>\n",
       "    </tr>\n",
       "    <tr>\n",
       "      <th>10</th>\n",
       "      <td>Sunny</td>\n",
       "      <td>Mild</td>\n",
       "      <td>Normal</td>\n",
       "      <td>Strong</td>\n",
       "      <td>Yes</td>\n",
       "    </tr>\n",
       "    <tr>\n",
       "      <th>11</th>\n",
       "      <td>Overcast</td>\n",
       "      <td>Mild</td>\n",
       "      <td>High</td>\n",
       "      <td>Strong</td>\n",
       "      <td>Yes</td>\n",
       "    </tr>\n",
       "    <tr>\n",
       "      <th>12</th>\n",
       "      <td>Overcast</td>\n",
       "      <td>Hot</td>\n",
       "      <td>Normal</td>\n",
       "      <td>Weak</td>\n",
       "      <td>Yes</td>\n",
       "    </tr>\n",
       "    <tr>\n",
       "      <th>13</th>\n",
       "      <td>Rain</td>\n",
       "      <td>Mild</td>\n",
       "      <td>High</td>\n",
       "      <td>Strong</td>\n",
       "      <td>No</td>\n",
       "    </tr>\n",
       "  </tbody>\n",
       "</table>\n",
       "</div>"
      ],
      "text/plain": [
       "     Outlook Temperature Humidity    Wind Play Tennis\n",
       "0      Sunny         Hot     High    Weak          No\n",
       "1      Sunny         Hot     High  Strong          No\n",
       "2   Overcast         Hot     High    Weak         Yes\n",
       "3       Rain        Mild     High    Weak         Yes\n",
       "4       Rain        Cool   Normal    Weak         Yes\n",
       "5       Rain        Cool   Normal  Strong          No\n",
       "6   Overcast        Cool   Normal  Strong         Yes\n",
       "7      Sunny        Mild     High    Weak          No\n",
       "8      Sunny        Cool   Normal    Weak         Yes\n",
       "9       Rain        Mild   Normal    Weak         Yes\n",
       "10     Sunny        Mild   Normal  Strong         Yes\n",
       "11  Overcast        Mild     High  Strong         Yes\n",
       "12  Overcast         Hot   Normal    Weak         Yes\n",
       "13      Rain        Mild     High  Strong          No"
      ]
     },
     "execution_count": 25,
     "metadata": {},
     "output_type": "execute_result"
    }
   ],
   "source": [
    "train_data_m"
   ]
  },
  {
   "cell_type": "markdown",
   "metadata": {},
   "source": [
    "## Calculating the entropy of the whole dataset"
   ]
  },
  {
   "cell_type": "code",
   "execution_count": 64,
   "metadata": {
    "execution": {
     "iopub.execute_input": "2022-10-23T17:47:19.416708Z",
     "iopub.status.busy": "2022-10-23T17:47:19.415720Z",
     "iopub.status.idle": "2022-10-23T17:47:19.418888Z",
     "shell.execute_reply": "2022-10-23T17:47:19.418275Z"
    },
    "papermill": {
     "duration": 0.018608,
     "end_time": "2022-10-23T17:47:19.419033",
     "exception": false,
     "start_time": "2022-10-23T17:47:19.400425",
     "status": "completed"
    },
    "tags": []
   },
   "outputs": [],
   "source": [
    "def calc_total_entropy(train_data, label : str, class_list,lenth):\n",
    "    count_of_yes = 0\n",
    "    count_of_no = 0\n",
    "    number_of_row = lenth\n",
    "    for i in range(number_of_row):\n",
    "        if train_data[label][i] == class_list[0] : \n",
    "            if class_list[0] == 'Yes' : \n",
    "                count_of_yes +=1 \n",
    "            if class_list[0] == 'No' :\n",
    "               count_of_no +=1 \n",
    "        if train_data[label][i] == class_list[1] :\n",
    "            if class_list[1] == 'Yes' : \n",
    "                count_of_yes +=1 \n",
    "            if class_list[1] == 'No' :\n",
    "               count_of_no +=1 \n",
    "    p_yes = count_of_yes /(count_of_yes + count_of_no)\n",
    "    p_no = count_of_yes /(count_of_yes + count_of_no)\n",
    "\n",
    "    entropy =  -p_yes*math.log2(p_yes) -  p_no*math.log2(p_no)\n",
    "\n",
    "    return entropy\n",
    "\n",
    "\n",
    "\n",
    "\n",
    "\n",
    "\n"
   ]
  },
  {
   "cell_type": "code",
   "execution_count": 65,
   "metadata": {},
   "outputs": [
    {
     "data": {
      "text/plain": [
       "0.8195527550768037"
      ]
     },
     "execution_count": 65,
     "metadata": {},
     "output_type": "execute_result"
    }
   ],
   "source": [
    "train_data_dic = train_data_m.to_dict()\n",
    "\n",
    "calc_total_entropy(train_data_dic,'Play Tennis',['Yes','No'],train_data_m.shape[0])"
   ]
  },
  {
   "cell_type": "markdown",
   "metadata": {},
   "source": [
    "## Calculating the entropy for a feature"
   ]
  },
  {
   "cell_type": "code",
   "execution_count": null,
   "metadata": {
    "execution": {
     "iopub.execute_input": "2022-10-23T17:47:19.445583Z",
     "iopub.status.busy": "2022-10-23T17:47:19.444935Z",
     "iopub.status.idle": "2022-10-23T17:47:19.447923Z",
     "shell.execute_reply": "2022-10-23T17:47:19.447420Z"
    },
    "papermill": {
     "duration": 0.018996,
     "end_time": "2022-10-23T17:47:19.448073",
     "exception": false,
     "start_time": "2022-10-23T17:47:19.429077",
     "status": "completed"
    },
    "tags": []
   },
   "outputs": [],
   "source": [
    "def calc_entropy(feature_value_data : str, label, class_list):\n",
    "    j = len[label]\n",
    "    dic_fin = {}\n",
    "    lenth = train_data_m.shape(0)\n",
    "    for i in range(len(label)) :\n",
    "        dic_fin[f\"{label[i]}\"] == 0\n",
    "        dic_fin[f\"{label[i]}_yes\"] == 0\n",
    "\n",
    "\n",
    "\n",
    "        for j in range(lenth):\n",
    "            if train_data_m[feature_value_data][j] == label[i] :\n",
    "               dic_fin[f\"{label[i]}\"] +=1\n",
    "               if train_data_m[feature_value_data][j] == class_list[1]\n",
    "            \n",
    "    "
   ]
  },
  {
   "cell_type": "code",
   "execution_count": 80,
   "metadata": {},
   "outputs": [
    {
     "data": {
      "text/plain": [
       "{'dfdf': 2}"
      ]
     },
     "execution_count": 80,
     "metadata": {},
     "output_type": "execute_result"
    }
   ],
   "source": [
    "# calc_entropy('Outlook',['Sunny','Overcast','Rain'],['Yes','No'])\n",
    "# calc_entropy('Temperature',['Hot','Mild','Cool'],['Yes','No'])\n",
    "# calc_entropy('Humidity',['Normal','High'],['Yes','No'])\n",
    "# calc_entropy('Wind',['Weak','Strong'],['Yes','No'])\n",
    "#train_data_dic\n",
    "train_data_m['Outlook'][1]\n",
    "f = {}\n",
    "f[\"dfdf\"] =1\n",
    "\n",
    "f[\"dfdf\"] +=1\n",
    "f"
   ]
  },
  {
   "cell_type": "markdown",
   "metadata": {},
   "source": [
    "## Calculating information gain for a feature"
   ]
  },
  {
   "cell_type": "code",
   "execution_count": null,
   "metadata": {
    "execution": {
     "iopub.execute_input": "2022-10-23T17:47:19.474493Z",
     "iopub.status.busy": "2022-10-23T17:47:19.473864Z",
     "iopub.status.idle": "2022-10-23T17:47:19.476826Z",
     "shell.execute_reply": "2022-10-23T17:47:19.476192Z"
    },
    "papermill": {
     "duration": 0.018787,
     "end_time": "2022-10-23T17:47:19.476971",
     "exception": false,
     "start_time": "2022-10-23T17:47:19.458184",
     "status": "completed"
    },
    "tags": []
   },
   "outputs": [],
   "source": [
    "def calc_info_gain(feature_name, train_data, label, class_list):\n",
    "    # complete"
   ]
  },
  {
   "cell_type": "markdown",
   "metadata": {},
   "source": [
    "## Finding the most informative feature (feature with highest information gain)"
   ]
  },
  {
   "cell_type": "code",
   "execution_count": null,
   "metadata": {
    "execution": {
     "iopub.execute_input": "2022-10-23T17:47:19.503001Z",
     "iopub.status.busy": "2022-10-23T17:47:19.502356Z",
     "iopub.status.idle": "2022-10-23T17:47:19.505392Z",
     "shell.execute_reply": "2022-10-23T17:47:19.504885Z"
    },
    "papermill": {
     "duration": 0.018374,
     "end_time": "2022-10-23T17:47:19.505532",
     "exception": false,
     "start_time": "2022-10-23T17:47:19.487158",
     "status": "completed"
    },
    "tags": []
   },
   "outputs": [],
   "source": [
    "def find_most_informative_feature(train_data, label, class_list):\n",
    "    # complete"
   ]
  },
  {
   "cell_type": "markdown",
   "metadata": {},
   "source": [
    "## Adding a node to the tree"
   ]
  },
  {
   "cell_type": "code",
   "execution_count": null,
   "metadata": {
    "execution": {
     "iopub.execute_input": "2022-10-23T17:47:19.533817Z",
     "iopub.status.busy": "2022-10-23T17:47:19.533185Z",
     "iopub.status.idle": "2022-10-23T17:47:19.536646Z",
     "shell.execute_reply": "2022-10-23T17:47:19.536154Z"
    },
    "papermill": {
     "duration": 0.0209,
     "end_time": "2022-10-23T17:47:19.536839",
     "exception": false,
     "start_time": "2022-10-23T17:47:19.515939",
     "status": "completed"
    },
    "tags": []
   },
   "outputs": [],
   "source": [
    "def generate_sub_tree(feature_name, train_data, label, class_list):\n",
    "    feature_value_count_dict = train_data[feature_name].value_counts(sort=False)\n",
    "    tree = {}\n",
    "    \n",
    "    for feature_value, count in feature_value_count_dict.iteritems():\n",
    "        feature_value_data = train_data[train_data[feature_name] == feature_value]\n",
    "        \n",
    "        assigned_to_node = False\n",
    "        for c in class_list:\n",
    "            class_count = feature_value_data[feature_value_data[label] == c].shape[0]\n",
    "\n",
    "            if class_count == count:\n",
    "                tree[feature_value] = c\n",
    "                train_data = train_data[train_data[feature_name] != feature_value]\n",
    "                assigned_to_node = True\n",
    "        if not assigned_to_node:\n",
    "            tree[feature_value] = \"?\"\n",
    "            \n",
    "    return tree, train_data"
   ]
  },
  {
   "cell_type": "markdown",
   "metadata": {},
   "source": [
    "##  Performing ID3 Algorithm and generating Tree"
   ]
  },
  {
   "cell_type": "code",
   "execution_count": null,
   "metadata": {
    "execution": {
     "iopub.execute_input": "2022-10-23T17:47:19.565466Z",
     "iopub.status.busy": "2022-10-23T17:47:19.564798Z",
     "iopub.status.idle": "2022-10-23T17:47:19.567634Z",
     "shell.execute_reply": "2022-10-23T17:47:19.567009Z"
    },
    "papermill": {
     "duration": 0.020669,
     "end_time": "2022-10-23T17:47:19.567823",
     "exception": false,
     "start_time": "2022-10-23T17:47:19.547154",
     "status": "completed"
    },
    "tags": []
   },
   "outputs": [],
   "source": [
    "def make_tree(root, prev_feature_value, train_data, label, class_list):\n",
    "    # complete"
   ]
  },
  {
   "cell_type": "markdown",
   "metadata": {},
   "source": [
    "## Finding unique classes of the label and Starting the algorithm"
   ]
  },
  {
   "cell_type": "code",
   "execution_count": null,
   "metadata": {
    "execution": {
     "iopub.execute_input": "2022-10-23T17:47:19.595497Z",
     "iopub.status.busy": "2022-10-23T17:47:19.594863Z",
     "iopub.status.idle": "2022-10-23T17:47:19.597806Z",
     "shell.execute_reply": "2022-10-23T17:47:19.597274Z"
    },
    "papermill": {
     "duration": 0.019467,
     "end_time": "2022-10-23T17:47:19.597973",
     "exception": false,
     "start_time": "2022-10-23T17:47:19.578506",
     "status": "completed"
    },
    "tags": []
   },
   "outputs": [],
   "source": [
    "def id3(train_data_m, label):\n",
    "    train_data = train_data_m.copy()\n",
    "    tree = {}\n",
    "    class_list = train_data[label].unique()\n",
    "    make_tree(tree, None, train_data, label, class_list)\n",
    "    \n",
    "    return tree"
   ]
  },
  {
   "cell_type": "markdown",
   "metadata": {},
   "source": [
    "## Predicting from the tree"
   ]
  },
  {
   "cell_type": "code",
   "execution_count": null,
   "metadata": {
    "execution": {
     "iopub.execute_input": "2022-10-23T17:47:19.624911Z",
     "iopub.status.busy": "2022-10-23T17:47:19.624266Z",
     "iopub.status.idle": "2022-10-23T17:47:19.627375Z",
     "shell.execute_reply": "2022-10-23T17:47:19.626902Z"
    },
    "papermill": {
     "duration": 0.018973,
     "end_time": "2022-10-23T17:47:19.627528",
     "exception": false,
     "start_time": "2022-10-23T17:47:19.608555",
     "status": "completed"
    },
    "tags": []
   },
   "outputs": [],
   "source": [
    "def predict(tree, instance):\n",
    "    if not isinstance(tree, dict):\n",
    "        return tree\n",
    "    else:\n",
    "        root_node = next(iter(tree))\n",
    "        feature_value = instance[root_node]\n",
    "        if feature_value in tree[root_node]:\n",
    "            return predict(tree[root_node][feature_value], instance)\n",
    "        else:\n",
    "            return None"
   ]
  },
  {
   "cell_type": "markdown",
   "metadata": {},
   "source": [
    "## Evaluating test dataset"
   ]
  },
  {
   "cell_type": "code",
   "execution_count": null,
   "metadata": {
    "execution": {
     "iopub.execute_input": "2022-10-23T17:47:19.655112Z",
     "iopub.status.busy": "2022-10-23T17:47:19.654473Z",
     "iopub.status.idle": "2022-10-23T17:47:19.657213Z",
     "shell.execute_reply": "2022-10-23T17:47:19.656603Z"
    },
    "papermill": {
     "duration": 0.018989,
     "end_time": "2022-10-23T17:47:19.657351",
     "exception": false,
     "start_time": "2022-10-23T17:47:19.638362",
     "status": "completed"
    },
    "tags": []
   },
   "outputs": [],
   "source": [
    "def evaluate(tree, test_data_m, label):\n",
    "    correct_preditct = 0\n",
    "    wrong_preditct = 0\n",
    "    for index, row in test_data_m.iterrows():\n",
    "        result = predict(tree, test_data_m.iloc[index])\n",
    "        if result == test_data_m[label].iloc[index]:\n",
    "            correct_preditct += 1\n",
    "        else:\n",
    "            wrong_preditct += 1\n",
    "    accuracy = correct_preditct / (correct_preditct + wrong_preditct)\n",
    "    return accuracy"
   ]
  },
  {
   "cell_type": "code",
   "execution_count": null,
   "metadata": {
    "execution": {
     "iopub.execute_input": "2022-10-23T17:47:19.685926Z",
     "iopub.status.busy": "2022-10-23T17:47:19.685291Z",
     "iopub.status.idle": "2022-10-23T17:47:19.748164Z",
     "shell.execute_reply": "2022-10-23T17:47:19.748642Z"
    },
    "papermill": {
     "duration": 0.080082,
     "end_time": "2022-10-23T17:47:19.748865",
     "exception": false,
     "start_time": "2022-10-23T17:47:19.668783",
     "status": "completed"
    },
    "tags": []
   },
   "outputs": [],
   "source": [
    "tree = id3(train_data_m, 'Play Tennis')\n",
    "tree"
   ]
  },
  {
   "cell_type": "code",
   "execution_count": null,
   "metadata": {
    "execution": {
     "iopub.execute_input": "2022-10-23T17:47:19.779792Z",
     "iopub.status.busy": "2022-10-23T17:47:19.779122Z",
     "iopub.status.idle": "2022-10-23T17:47:19.782450Z",
     "shell.execute_reply": "2022-10-23T17:47:19.781825Z"
    },
    "papermill": {
     "duration": 0.021038,
     "end_time": "2022-10-23T17:47:19.782593",
     "exception": false,
     "start_time": "2022-10-23T17:47:19.761555",
     "status": "completed"
    },
    "tags": []
   },
   "outputs": [],
   "source": [
    "accuracy = evaluate(tree, test_data_m, 'Play Tennis')\n",
    "print(\"accuracy:\", accuracy)"
   ]
  },
  {
   "cell_type": "code",
   "execution_count": null,
   "metadata": {
    "papermill": {
     "duration": 0.011394,
     "end_time": "2022-10-23T17:47:19.806021",
     "exception": false,
     "start_time": "2022-10-23T17:47:19.794627",
     "status": "completed"
    },
    "tags": []
   },
   "outputs": [],
   "source": []
  }
 ],
 "metadata": {
  "kernelspec": {
   "display_name": "Python 3 (ipykernel)",
   "language": "python",
   "name": "python3"
  },
  "language_info": {
   "codemirror_mode": {
    "name": "ipython",
    "version": 3
   },
   "file_extension": ".py",
   "mimetype": "text/x-python",
   "name": "python",
   "nbconvert_exporter": "python",
   "pygments_lexer": "ipython3",
   "version": "3.11.5"
  },
  "papermill": {
   "default_parameters": {},
   "duration": 6.631128,
   "end_time": "2022-10-23T17:47:20.428183",
   "environment_variables": {},
   "exception": null,
   "input_path": "__notebook__.ipynb",
   "output_path": "__notebook__.ipynb",
   "parameters": {},
   "start_time": "2022-10-23T17:47:13.797055",
   "version": "2.2.2"
  }
 },
 "nbformat": 4,
 "nbformat_minor": 4
}
