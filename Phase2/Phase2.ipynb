{
 "cells": [
  {
   "cell_type": "markdown",
   "id": "ff3f4a72",
   "metadata": {},
   "source": [
    "# Homework: Decision Tree\n",
    "## Phase 2: Classification with scikit-learn\n",
    "***"
   ]
  },
  {
   "cell_type": "markdown",
   "id": "9ec3559d",
   "metadata": {},
   "source": [
    "## Import Libraries"
   ]
  },
  {
   "cell_type": "code",
   "execution_count": 18,
   "id": "8c97503f",
   "metadata": {},
   "outputs": [],
   "source": [
    "# complete"
   ]
  },
  {
   "cell_type": "markdown",
   "id": "6f8aae2f",
   "metadata": {},
   "source": [
    "## Load Dataset (CSV file)"
   ]
  },
  {
   "cell_type": "code",
   "execution_count": 5,
   "id": "2436a7c1",
   "metadata": {},
   "outputs": [],
   "source": [
    "dataset = pd.read_csv('Decision_Tree_Dataset.csv', sep = ',', header = 0)"
   ]
  },
  {
   "cell_type": "markdown",
   "id": "23361785",
   "metadata": {},
   "source": [
    "## Dataset Information"
   ]
  },
  {
   "cell_type": "markdown",
   "id": "4955b421",
   "metadata": {},
   "source": [
    "Descriptive Statistics:\n",
    "\n",
    "- Purpose: Summarize and describe the main characteristics of the dataset.\n",
    "- Techniques: Calculate mean, median, mode, standard deviation, range, and other summary statistics."
   ]
  },
  {
   "cell_type": "code",
   "execution_count": 6,
   "id": "9c3a3feb",
   "metadata": {},
   "outputs": [],
   "source": [
    "# complete"
   ]
  },
  {
   "cell_type": "markdown",
   "id": "b0e509c0",
   "metadata": {},
   "source": [
    "- provide a brief overview of the dataset (use info() )\n",
    "- What is the nature of the data (e.g., text, numerical, images)?\n",
    "- How many instances and features does the dataset contain?"
   ]
  },
  {
   "cell_type": "code",
   "execution_count": 7,
   "id": "4f009e3d",
   "metadata": {},
   "outputs": [],
   "source": [
    "# complete"
   ]
  },
  {
   "cell_type": "code",
   "execution_count": 8,
   "id": "4ff7d2db",
   "metadata": {},
   "outputs": [],
   "source": [
    "# complete"
   ]
  },
  {
   "cell_type": "code",
   "execution_count": 9,
   "id": "15c74de4",
   "metadata": {},
   "outputs": [],
   "source": [
    "# complete"
   ]
  },
  {
   "cell_type": "markdown",
   "id": "b6fd91f8",
   "metadata": {},
   "source": [
    "- Check for missing values"
   ]
  },
  {
   "cell_type": "code",
   "execution_count": 10,
   "id": "8fe28881",
   "metadata": {},
   "outputs": [],
   "source": [
    "# complete"
   ]
  },
  {
   "cell_type": "markdown",
   "id": "37865b7f",
   "metadata": {},
   "source": [
    "## Visualization"
   ]
  },
  {
   "cell_type": "code",
   "execution_count": 11,
   "id": "f1c58471",
   "metadata": {},
   "outputs": [],
   "source": [
    "# complete(Extra Point)"
   ]
  },
  {
   "cell_type": "markdown",
   "id": "9cdd100c",
   "metadata": {},
   "source": [
    "## Model Building"
   ]
  },
  {
   "cell_type": "code",
   "execution_count": 12,
   "id": "f778adca",
   "metadata": {},
   "outputs": [],
   "source": [
    "#Separating the target variable\n",
    "# complete"
   ]
  },
  {
   "cell_type": "code",
   "execution_count": 14,
   "id": "2c74d2ff",
   "metadata": {},
   "outputs": [],
   "source": [
    "#Splitting dataset in to train and test data\n",
    "# complete"
   ]
  },
  {
   "cell_type": "code",
   "execution_count": 15,
   "id": "f7fb5e1f",
   "metadata": {},
   "outputs": [],
   "source": [
    "#Model\n",
    "# complete"
   ]
  },
  {
   "cell_type": "markdown",
   "id": "0d0d6c4e",
   "metadata": {},
   "source": [
    "## Prediction"
   ]
  },
  {
   "cell_type": "code",
   "execution_count": 16,
   "id": "0474e35f",
   "metadata": {},
   "outputs": [],
   "source": [
    "#Make predictions\n",
    "# complete"
   ]
  },
  {
   "cell_type": "markdown",
   "id": "8ddf98e4",
   "metadata": {},
   "source": [
    "## Evaluate the Model"
   ]
  },
  {
   "cell_type": "markdown",
   "id": "1d27881f",
   "metadata": {},
   "source": [
    "Assess the model's performance using various metrics such as accuracy, precision, recall, and F1 score"
   ]
  },
  {
   "cell_type": "code",
   "execution_count": 17,
   "id": "8a874c28",
   "metadata": {},
   "outputs": [],
   "source": [
    "# complete"
   ]
  },
  {
   "cell_type": "markdown",
   "metadata": {},
   "source": [
    "## Pruning"
   ]
  },
  {
   "cell_type": "code",
   "execution_count": null,
   "metadata": {},
   "outputs": [],
   "source": [
    "def rep_pruning(tree, validation_data, label):\n",
    "    # complete"
   ]
  }
 ],
 "metadata": {
  "kernelspec": {
   "display_name": "Python 3 (ipykernel)",
   "language": "python",
   "name": "python3"
  },
  "language_info": {
   "codemirror_mode": {
    "name": "ipython",
    "version": 3
   },
   "file_extension": ".py",
   "mimetype": "text/x-python",
   "name": "python",
   "nbconvert_exporter": "python",
   "pygments_lexer": "ipython3",
   "version": "3.9.13"
  }
 },
 "nbformat": 4,
 "nbformat_minor": 5
}
